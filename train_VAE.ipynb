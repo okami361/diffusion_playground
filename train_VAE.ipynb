{
 "cells": [
  {
   "cell_type": "code",
   "execution_count": null,
   "metadata": {},
   "outputs": [],
   "source": [
    "import os\n",
    "import io\n",
    "import contextlib\n",
    "import json\n",
    "\n",
    "from VAE.VAE import VAE\n",
    "from VAE.GAN import GAN\n",
    "from tools import generate_config, mount_drive\n",
    "from tools.dataset import imagenette_loaders"
   ]
  },
  {
   "cell_type": "code",
   "execution_count": null,
   "metadata": {},
   "outputs": [],
   "source": [
    "import torch\n",
    "from torch import nn\n",
    "import torch.optim as optim\n",
    "import torch.nn.functional as F\n",
    "from torchsummary import summary"
   ]
  },
  {
   "cell_type": "code",
   "execution_count": null,
   "metadata": {},
   "outputs": [],
   "source": [
    "if is_colab := True:\n",
    "    mount_drive()"
   ]
  },
  {
   "cell_type": "code",
   "execution_count": null,
   "metadata": {},
   "outputs": [],
   "source": [
    "device = (\n",
    "    \"cuda\"\n",
    "    if torch.cuda.is_available()\n",
    "    else \"mps\"\n",
    "    if torch.backends.mps.is_available()\n",
    "    else \"cpu\"\n",
    ")\n",
    "\n",
    "print(f\"Using {device} device\")"
   ]
  },
  {
   "cell_type": "code",
   "execution_count": null,
   "metadata": {},
   "outputs": [],
   "source": [
    "config = generate_config(\n",
    "    exp_number = 1,\n",
    "    name = 'basic_implementation',\n",
    "    output_path = 'drive/MyDrive/latent_diffusion/2025_01_13/models/VAE', \n",
    "    dataset = 'imagenette2-160', \n",
    "    description = 'Initial implementation of VAE with GAN training', \n",
    "    image_resolution = 160, \n",
    "    latent_resolution = 40, \n",
    "    latent_channel = 3, \n",
    "    batch_size = 64, \n",
    "    learning_rate = 1e-3, \n",
    "    num_epochs = 20\n",
    ")"
   ]
  },
  {
   "cell_type": "code",
   "execution_count": null,
   "metadata": {},
   "outputs": [],
   "source": [
    "if not os.path.exists(f'{config['output_path']}/experiment_{config['experiment_number']}'):\n",
    "    os.makedirs(f'{config['output_path']}/experiment_{config['experiment_number']}')\n",
    "\n",
    "filename = f'{config['output_path']}/experiment_{config['experiment_number']}.json'"
   ]
  },
  {
   "cell_type": "code",
   "execution_count": null,
   "metadata": {},
   "outputs": [],
   "source": [
    "train_loader, test_loader = imagenette_loaders(config=config)"
   ]
  },
  {
   "cell_type": "code",
   "execution_count": null,
   "metadata": {},
   "outputs": [],
   "source": [
    "def kl_divergence(mu, logvar):\n",
    "    # Calculate KL divergence\n",
    "    kl = -0.5 * torch.sum(1 + logvar - mu.pow(2) - logvar.exp(), dim=1)\n",
    "    return kl.mean()\n",
    "\n",
    "def reconstruction_loss(recon_x, x):\n",
    "    assert recon_x.shape == x.shape, f\"Shape mismatch: recon_x shape {recon_x.shape}, x shape {x.shape}\"\n",
    "\n",
    "    recon_loss = F.mse_loss(recon_x, x, reduction='mean')\n",
    "    return recon_loss"
   ]
  },
  {
   "cell_type": "code",
   "execution_count": null,
   "metadata": {},
   "outputs": [],
   "source": [
    "def train_discriminator(model_gan, optimizer_discriminator, data):\n",
    "    model_gan.model_vae.eval()\n",
    "    model_gan.model_discriminator.train()\n",
    "\n",
    "    optimizer_discriminator.zero_grad()\n",
    "\n",
    "    with torch.no_grad():\n",
    "        recon_x, _, _ = model_gan.model_vae(data)\n",
    "\n",
    "    real_pred = model_gan.discriminator(data)\n",
    "    fake_pred = model_gan.discriminator(recon_x)\n",
    "\n",
    "    real_loss = F.binary_cross_entropy(real_pred, torch.ones_like(real_pred))\n",
    "    fake_loss = F.binary_cross_entropy(fake_pred, torch.zeros_like(fake_pred))\n",
    "\n",
    "    loss = real_loss + fake_loss\n",
    "\n",
    "    loss.backward()\n",
    "    optimizer_discriminator.step()\n",
    "\n",
    "    return loss"
   ]
  },
  {
   "cell_type": "code",
   "execution_count": null,
   "metadata": {},
   "outputs": [],
   "source": [
    "def train_vae(model_gan, optimizer_vae, data):\n",
    "\n",
    "    model_gan.model_vae.train()\n",
    "    model_gan.model_discriminator.eval()\n",
    "\n",
    "    optimizer_vae.zero_grad()\n",
    "\n",
    "    # Freeze discriminator within the context\n",
    "    for param in model_gan.model_discriminator.parameters():\n",
    "        param.requires_grad = False\n",
    "\n",
    "    recon_data, mu, logvar, y = model_gan(data)\n",
    "\n",
    "    # Compute loss components\n",
    "    kl = kl_divergence(mu, logvar)\n",
    "    recon_loss = reconstruction_loss(recon_data, data)\n",
    "    adversarial_loss = F.binary_cross_entropy_with_logits(y, torch.ones_like(y))  # Label smoothing\n",
    "\n",
    "    # Combine losses with appropriate weighting\n",
    "    loss = recon_loss + adversarial_loss + 1e-6 * kl\n",
    "\n",
    "    # Backward pass and optimization\n",
    "    loss.backward()\n",
    "    optimizer_vae.step()\n",
    "\n",
    "    for param in model_gan.model_discriminator.parameters():\n",
    "        param.requires_grad = True\n",
    "\n",
    "    return loss"
   ]
  },
  {
   "cell_type": "code",
   "execution_count": null,
   "metadata": {},
   "outputs": [],
   "source": [
    "def train(model_gan, epoch, optimizer_vae, optimizer_discriminator, data_loader):\n",
    "    total_loss = 0\n",
    "    for batch_idx, data in enumerate(data_loader):\n",
    "        data = data.to(device)\n",
    "        \n",
    "        discriminator_loss = train_discriminator(model_gan, optimizer_discriminator, data)\n",
    "        vae_loss = train_vae(model_gan, optimizer_vae, data)\n",
    "\n",
    "        total_loss += vae_loss + discriminator_loss\n",
    "\n",
    "    avg_loss = total_loss / len(data_loader.dataset)\n",
    "\n",
    "    print(f'====> Epoch: {epoch}')\n",
    "    print(f'Average loss: {avg_loss:.5f}')\n",
    "    return avg_loss"
   ]
  },
  {
   "cell_type": "code",
   "execution_count": null,
   "metadata": {},
   "outputs": [],
   "source": [
    "if is_train := True:\n",
    "    model_gan = GAN(config)\n",
    "\n",
    "    optimizer_vae = optim.Adam(model_gan.model_vae.parameters(), lr=config['learning_rate'])\n",
    "    optimizer_discriminator = optim.Adam(model_gan.model_discriminator.parameters(), lr=config['learning_rate'])\n",
    "\n",
    "    model_gan.to(device)\n",
    "    print('==================================')\n",
    "    print(f'Training model {config[\"name\"]}')\n",
    "    print('==================================')\n",
    "\n",
    "    summary_str = io.StringIO()\n",
    "    with contextlib.redirect_stdout(summary_str):\n",
    "        summary(model_gan.model_vae, input_size = (3, config['image_resolution'], config['image_resolution']))\n",
    "    config['summary'] = model_gan.model_vae.getvalue()\n",
    "\n",
    "    for epoch in range(1, config['num_epochs'] + 1):\n",
    "        config['loss'] = train(model_gan, epoch, optimizer_vae, optimizer_discriminator, train_loader)\n",
    "\n",
    "    # Open the file in write mode and use json.dump() to save the data\n",
    "    with open(filename, 'w') as file:\n",
    "        json.dump(config, file, indent=4)\n",
    "\n",
    "    torch.save(model_gan.model_vae, f'{config['output_path']}/{config['name']}/{config['name']}.pth')"
   ]
  },
  {
   "cell_type": "markdown",
   "metadata": {},
   "source": [
    "# Test"
   ]
  },
  {
   "cell_type": "code",
   "execution_count": null,
   "metadata": {},
   "outputs": [],
   "source": [
    "import torch\n",
    "\n",
    "import matplotlib.pyplot as plt\n",
    "\n",
    "# Load the VAE model\n",
    "model_path = f'{config[\"output_path\"]}/{config[\"name\"]}/{config[\"name\"]}.pth'\n",
    "model = torch.load(model_path)\n",
    "\n",
    "# Set the model to evaluation mode\n",
    "model.eval()\n",
    "\n",
    "# Get a batch of test data\n",
    "data_iter = iter(test_loader)\n",
    "data = next(data_iter)\n",
    "\n",
    "# Move the data to the device\n",
    "data = data.to(device)\n",
    "\n",
    "# Pass the data through the VAE model\n",
    "with torch.no_grad():\n",
    "    recon_data, mu, logvar, _ = model(data)\n",
    "\n",
    "# Determine the number of images to show\n",
    "num_images = 3  # Change this value to configure the number of images to show\n",
    "\n",
    "# Plot the original, latent space, and reconstruction for each image\n",
    "fig, axes = plt.subplots(nrows=num_images, ncols=3, figsize=(12, 4*num_images))\n",
    "\n",
    "for i in range(num_images):\n",
    "    # Plot the original image\n",
    "    axes[i, 0].imshow(data[i].permute(1, 2, 0).cpu())\n",
    "    axes[i, 0].set_title('Original')\n",
    "    axes[i, 0].axis('off')\n",
    "\n",
    "    # Plot the latent space\n",
    "    axes[i, 1].imshow(mu[i].cpu().view(1, -1), cmap='hot')\n",
    "    axes[i, 1].set_title('Latent Space')\n",
    "    axes[i, 1].axis('off')\n",
    "\n",
    "    # Plot the reconstruction\n",
    "    axes[i, 2].imshow(recon_data[i].permute(1, 2, 0).cpu())\n",
    "    axes[i, 2].set_title('Reconstruction')\n",
    "    axes[i, 2].axis('off')\n",
    "\n",
    "plt.tight_layout()\n",
    "plt.show()"
   ]
  }
 ],
 "metadata": {
  "language_info": {
   "name": "python"
  }
 },
 "nbformat": 4,
 "nbformat_minor": 2
}
